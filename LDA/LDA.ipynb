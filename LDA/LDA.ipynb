{
 "cells": [
  {
   "cell_type": "markdown",
   "metadata": {},
   "source": [
    "# Linear Discriminant Analyisis #\n",
    "\n",
    "### LDA Description ### \n",
    "Supervised learning technique. \n",
    "\n",
    "Project a feature space (n-dimensional samples) onto a smaller sub-space k ( where k $\\leq$ n-1 ) while maiting the class discriminatory information. \n",
    "\n",
    "#### Assumptions ####\n",
    "- Normally distributed data \n",
    "- Indentical covariance matrices for every class\n"
   ]
  },
  {
   "cell_type": "markdown",
   "metadata": {},
   "source": [
    "### Import Libraries ###"
   ]
  },
  {
   "cell_type": "code",
   "execution_count": 6,
   "metadata": {
    "collapsed": false
   },
   "outputs": [],
   "source": [
    "%matplotlib inline\n",
    "import pandas as pd \n",
    "import numpy as np\n",
    "import matplotlib.pyplot as plt\n",
    "from sklearn.discriminant_analysis import LinearDiscriminantAnalysis as LDA\n",
    "import sklearn.decomposition\n",
    "from sklearn.model_selection import KFold"
   ]
  },
  {
   "cell_type": "markdown",
   "metadata": {},
   "source": [
    "### Import Data ### "
   ]
  },
  {
   "cell_type": "code",
   "execution_count": 5,
   "metadata": {
    "collapsed": false
   },
   "outputs": [],
   "source": [
    "# Read the training csv\n",
    "train_pd = pd.read_csv('/home/caleb/Documents/Classes/machine-learning/assignments/assignment06/train.csv')\n",
    "\n",
    "# Read the test csv\n",
    "test_pd = pd.read_csv('/home/caleb/Documents/Classes/machine-learning/assignments/assignment06/test.csv')\n",
    "\n",
    "# Values returns an array of pixel data from training set\n",
    "values = train_pd.values[:,1:]\n",
    "\n",
    "# Test values returns an array of pixel data from test set\n",
    "test_values = test_pd.values\n",
    "\n",
    "# response returns an array of labels\n",
    "response = train_pd.values[:,0].ravel()"
   ]
  },
  {
   "cell_type": "markdown",
   "metadata": {},
   "source": [
    "### Determine Optimal Number of Components ### \n",
    " We can compute the optimal number of components by using the explained variance ratio as part of th `PCA` object"
   ]
  },
  {
   "cell_type": "code",
   "execution_count": 3,
   "metadata": {
    "collapsed": false
   },
   "outputs": [
    {
     "name": "stdout",
     "output_type": "stream",
     "text": [
      "Number of eigenvectors to retain: 154\n"
     ]
    }
   ],
   "source": [
    "pca_obj = sklearn.decomposition.PCA()\n",
    "x_trans = pca_obj.fit_transform(values)    \n",
    "\n",
    "s = pca_obj.explained_variance_ratio_\n",
    "sum=0.0\n",
    "comp=0\n",
    "\n",
    "for _ in s:\n",
    "    sum += _\n",
    "    comp += 1\n",
    "    if(sum>=0.95):\n",
    "        break\n",
    "\n",
    "print(\"Number of eigenvectors to retain:\", comp)"
   ]
  },
  {
   "cell_type": "markdown",
   "metadata": {},
   "source": [
    "### Model Fitting ### "
   ]
  },
  {
   "cell_type": "code",
   "execution_count": 4,
   "metadata": {
    "collapsed": false,
    "scrolled": false
   },
   "outputs": [
    {
     "name": "stderr",
     "output_type": "stream",
     "text": [
      "/home/caleb/anaconda3/lib/python3.5/site-packages/sklearn/discriminant_analysis.py:387: UserWarning: Variables are collinear.\n",
      "  warnings.warn(\"Variables are collinear.\")\n"
     ]
    }
   ],
   "source": [
    "# LDA \n",
    "sklearn_lda = LDA(n_components=comp)\n",
    "# Taking in as second argument the Target as labels\n",
    "training_LDA_2D = sklearn_lda.fit_transform(values, response)"
   ]
  },
  {
   "cell_type": "markdown",
   "metadata": {},
   "source": [
    "### Training Error ### "
   ]
  },
  {
   "cell_type": "code",
   "execution_count": 72,
   "metadata": {
    "collapsed": false,
    "scrolled": false
   },
   "outputs": [
    {
     "name": "stdout",
     "output_type": "stream",
     "text": [
      "Training Error: 0.875214285714\n"
     ]
    }
   ],
   "source": [
    "print(\"Training Error:\", sklearn_lda.score(values,response))"
   ]
  },
  {
   "cell_type": "markdown",
   "metadata": {},
   "source": [
    "## Cross -Validation Scores\n"
   ]
  },
  {
   "cell_type": "code",
   "execution_count": 65,
   "metadata": {
    "collapsed": false
   },
   "outputs": [
    {
     "name": "stderr",
     "output_type": "stream",
     "text": [
      "/home/caleb/anaconda3/lib/python3.5/site-packages/sklearn/discriminant_analysis.py:387: UserWarning: Variables are collinear.\n",
      "  warnings.warn(\"Variables are collinear.\")\n",
      "/home/caleb/anaconda3/lib/python3.5/site-packages/sklearn/discriminant_analysis.py:455: UserWarning: The priors do not sum to 1. Renormalizing\n",
      "  UserWarning)\n"
     ]
    }
   ],
   "source": [
    "# Recode the data \n",
    "X, y = values, response \n",
    "\n",
    "# Split the data into folds\n",
    "n = len(X)\n",
    "kf = KFold(n_splits = 20)\n",
    "cross_error = []\n",
    "for train_idx, test_idx in kf.split(X):\n",
    "    X_train, X_test = X[train_idx], X[test_idx]\n",
    "    y_train, y_test = y[train_idx], y[test_idx]\n",
    "    skLDA = LDA(n_components = comp)\n",
    "    clf = skLDA.fit_transform(X_train, y_train)\n",
    "    score = skLDA.score(X_test, y_test)\n",
    "    cross_error.append(score)"
   ]
  },
  {
   "cell_type": "code",
   "execution_count": 70,
   "metadata": {
    "collapsed": false
   },
   "outputs": [
    {
     "name": "stdout",
     "output_type": "stream",
     "text": [
      "mean of 20 cross validation errors: 0.865261904762\n",
      "variance of 20 cross validation errors:  2.95572562358e-05\n"
     ]
    }
   ],
   "source": [
    "print(\"mean of 20 cross validation errors:\", np.array(cross_error).mean())\n",
    "print(\"variance of 20 cross validation errors: \", np.array(cross_error).var())"
   ]
  },
  {
   "cell_type": "markdown",
   "metadata": {},
   "source": [
    "Low variance in the cross validation error is a good sign, however our error isn't as high as we'd like it to be. "
   ]
  },
  {
   "cell_type": "markdown",
   "metadata": {},
   "source": [
    "### Submission to Kaggle ###"
   ]
  },
  {
   "cell_type": "code",
   "execution_count": 112,
   "metadata": {
    "collapsed": false
   },
   "outputs": [],
   "source": [
    "Label = np.array(skLDA.predict(test_values))\n",
    "ImageId = np.arange(start = 1, stop = Label.shape[0]+1)"
   ]
  },
  {
   "cell_type": "code",
   "execution_count": 114,
   "metadata": {
    "collapsed": false
   },
   "outputs": [],
   "source": [
    "df = pd.DataFrame({'ImageId': ImageId, 'Label': Label})\n",
    "df.to_csv('LDA_submission.csv', index_label = False, index = False)"
   ]
  },
  {
   "cell_type": "markdown",
   "metadata": {},
   "source": [
    "![title](LDA_Score.png)"
   ]
  }
 ],
 "metadata": {
  "anaconda-cloud": {},
  "kernelspec": {
   "display_name": "Python [default]",
   "language": "python",
   "name": "python3"
  },
  "language_info": {
   "codemirror_mode": {
    "name": "ipython",
    "version": 3
   },
   "file_extension": ".py",
   "mimetype": "text/x-python",
   "name": "python",
   "nbconvert_exporter": "python",
   "pygments_lexer": "ipython3",
   "version": "3.5.2"
  }
 },
 "nbformat": 4,
 "nbformat_minor": 1
}
