{
 "cells": [
  {
   "cell_type": "markdown",
   "metadata": {},
   "source": [
    "# Support Vector Machine (SVM) # \n",
    "\n",
    "### SVM Description ### \n",
    "Supervised learning technique. \n",
    "\n",
    "#### Assumptions ####\n",
    "- No assumptions made regarding data, however, feature scaling may improve performance\n",
    "\n",
    "\n",
    "### Load Libraries ###"
   ]
  },
  {
   "cell_type": "code",
   "execution_count": 1,
   "metadata": {
    "collapsed": true
   },
   "outputs": [],
   "source": [
    "%matplotlib inline\n",
    "import pandas as pd \n",
    "import numpy as np\n",
    "import matplotlib.pyplot as plt\n",
    "from sklearn import svm\n",
    "from sklearn.model_selection import KFold"
   ]
  },
  {
   "cell_type": "markdown",
   "metadata": {},
   "source": [
    "### Import Data ### "
   ]
  },
  {
   "cell_type": "code",
   "execution_count": 2,
   "metadata": {
    "collapsed": true
   },
   "outputs": [],
   "source": [
    "# Read the training csv\n",
    "train_pd = pd.read_csv('/home/caleb/Documents/Classes/machine-learning/assignments/assignment06/train.csv')\n",
    "\n",
    "# Read the test csv\n",
    "test_pd = pd.read_csv('/home/caleb/Documents/Classes/machine-learning/assignments/assignment06/test.csv')\n",
    "\n",
    "# Values returns an array of pixel data from training set\n",
    "X = train_pd.values[:,1:]\n",
    "\n",
    "# Test values returns an array of pixel data from test set\n",
    "test_X = test_pd.values\n",
    "\n",
    "# response returns an array of labels\n",
    "y = train_pd.values[:,0].ravel()"
   ]
  },
  {
   "cell_type": "markdown",
   "metadata": {},
   "source": [
    "### Model Fitting ### "
   ]
  },
  {
   "cell_type": "code",
   "execution_count": 3,
   "metadata": {
    "collapsed": false
   },
   "outputs": [
    {
     "data": {
      "text/plain": [
       "LinearSVC(C=1.0, class_weight=None, dual=False, fit_intercept=True,\n",
       "     intercept_scaling=1, loss='squared_hinge', max_iter=1000,\n",
       "     multi_class='ovr', penalty='l2', random_state=None, tol=0.0001,\n",
       "     verbose=0)"
      ]
     },
     "execution_count": 3,
     "metadata": {},
     "output_type": "execute_result"
    }
   ],
   "source": [
    "clf = svm.LinearSVC(penalty = 'l2', \n",
    "                    dual = False, \n",
    "                    multi_class = 'ovr')\n",
    "clf.fit(X,y)"
   ]
  },
  {
   "cell_type": "code",
   "execution_count": 7,
   "metadata": {
    "collapsed": false
   },
   "outputs": [
    {
     "name": "stdout",
     "output_type": "stream",
     "text": [
      "Training error: 0.933761904762\n"
     ]
    }
   ],
   "source": [
    "print(\"Training error:\", clf.score(X,y))"
   ]
  },
  {
   "cell_type": "markdown",
   "metadata": {},
   "source": [
    "### Submission to Kaggle ###"
   ]
  },
  {
   "cell_type": "code",
   "execution_count": 5,
   "metadata": {
    "collapsed": true
   },
   "outputs": [],
   "source": [
    "# Organize prediction into arrays\n",
    "Label = np.array(clf.predict(test_X))\n",
    "ImageId = np.arange(start = 1, stop = Label.shape[0]+1)\n",
    "\n",
    "# Save dataframe to csv \n",
    "df = pd.DataFrame({'ImageId': ImageId, 'Label': Label})\n",
    "df.to_csv('SVM_submission.csv', index_label = False, index = False)"
   ]
  },
  {
   "cell_type": "markdown",
   "metadata": {},
   "source": [
    "![title](SVM_score.png)"
   ]
  }
 ],
 "metadata": {
  "anaconda-cloud": {},
  "kernelspec": {
   "display_name": "Python [conda root]",
   "language": "python",
   "name": "conda-root-py"
  },
  "language_info": {
   "codemirror_mode": {
    "name": "ipython",
    "version": 3
   },
   "file_extension": ".py",
   "mimetype": "text/x-python",
   "name": "python",
   "nbconvert_exporter": "python",
   "pygments_lexer": "ipython3",
   "version": "3.5.2"
  }
 },
 "nbformat": 4,
 "nbformat_minor": 1
}
