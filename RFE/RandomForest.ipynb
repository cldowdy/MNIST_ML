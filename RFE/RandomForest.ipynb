{
 "cells": [
  {
   "cell_type": "markdown",
   "metadata": {},
   "source": [
    "# Random Forest #\n",
    "\n",
    "### Random Forest Description ### \n",
    "Supervised Learning Method\n",
    "\n",
    "#### Assumptions ####\n",
    "\n",
    "- The sample is representative of the population \n",
    "\n",
    "\n",
    "### Load Libraries ###"
   ]
  },
  {
   "cell_type": "code",
   "execution_count": 33,
   "metadata": {
    "collapsed": false
   },
   "outputs": [],
   "source": [
    "%matplotlib inline\n",
    "from sklearn.model_selection import cross_val_score\n",
    "from sklearn.ensemble import ExtraTreesClassifier\n",
    "from sklearn.tree import DecisionTreeClassifier\n",
    "import pandas as pd\n",
    "import matplotlib.pyplot as plt\n",
    "import numpy as np "
   ]
  },
  {
   "cell_type": "markdown",
   "metadata": {},
   "source": [
    "### Import Data ### "
   ]
  },
  {
   "cell_type": "code",
   "execution_count": 2,
   "metadata": {
    "collapsed": false
   },
   "outputs": [],
   "source": [
    "# Read the training csv\n",
    "train_pd = pd.read_csv('/home/caleb/Documents/Classes/machine-learning/assignments/assignment06/train.csv')\n",
    "\n",
    "# Read the test csv\n",
    "test_pd = pd.read_csv('/home/caleb/Documents/Classes/machine-learning/assignments/assignment06/test.csv')\n",
    "\n",
    "# Values returns an array of pixel data from training set\n",
    "X = train_pd.values[:,1:]\n",
    "\n",
    "# Test values returns an array of pixel data from test set\n",
    "test_X = test_pd.values\n",
    "\n",
    "# response returns an array of labels\n",
    "y = train_pd.values[:,0].ravel()"
   ]
  },
  {
   "cell_type": "markdown",
   "metadata": {},
   "source": [
    "## Assessing Model Fit ##"
   ]
  },
  {
   "cell_type": "markdown",
   "metadata": {},
   "source": [
    "### Decision Tree Classifier ### "
   ]
  },
  {
   "cell_type": "code",
   "execution_count": 3,
   "metadata": {
    "collapsed": false
   },
   "outputs": [],
   "source": [
    "valid_scores = []\n",
    "for x in range(10, X.shape[1], 52):\n",
    "    clf = DecisionTreeClassifier(max_depth=None,\n",
    "                                 max_features = x,\n",
    "                             min_samples_split=2,\n",
    "                             random_state = 0)\n",
    "    scores = cross_val_score(clf, X, y, n_jobs=-1, cv = 20)\n",
    "    valid_scores.append([x,scores.mean()])"
   ]
  },
  {
   "cell_type": "code",
   "execution_count": 8,
   "metadata": {
    "collapsed": false
   },
   "outputs": [
    {
     "data": {
      "text/plain": [
       "<matplotlib.axes._subplots.AxesSubplot at 0x7f72f5c53b70>"
      ]
     },
     "execution_count": 8,
     "metadata": {},
     "output_type": "execute_result"
    },
    {
     "data": {
      "image/png": "[encoded data removed]",
      "text/plain": [
       "<matplotlib.figure.Figure at 0x7f72f5c59da0>"
      ]
     },
     "metadata": {},
     "output_type": "display_data"
    }
   ],
   "source": [
    "df = pd.DataFrame(valid_scores)\n",
    "df.columns = [\"Max Features\",\"20-Fold Cross Validation Error\"]\n",
    "df['20-Fold Cross Validation Error'] = 1 - df['20-Fold Cross Validation Error']\n",
    "df.plot(x = \"Max Features\", y = \"20-Fold Cross Validation Error\", title = \"Cross Validation Error\")"
   ]
  },
  {
   "cell_type": "markdown",
   "metadata": {},
   "source": [
    "We note that around 270 features the Cross-Validation Error decreases at a decreasing rate -- this is where we will truncate it."
   ]
  },
  {
   "cell_type": "code",
   "execution_count": 16,
   "metadata": {
    "collapsed": true
   },
   "outputs": [],
   "source": [
    "clf = DecisionTreeClassifier(max_depth=None,\n",
    "                             max_features =  270,\n",
    "                             min_samples_split=2,\n",
    "                             random_state = 0)\n",
    "scores = cross_val_score(clf, X, y, cv = 3, n_jobs=-1)"
   ]
  },
  {
   "cell_type": "code",
   "execution_count": 17,
   "metadata": {
    "collapsed": false
   },
   "outputs": [
    {
     "name": "stdout",
     "output_type": "stream",
     "text": [
      "Estimated Test Error: 0.843404803126\n"
     ]
    }
   ],
   "source": [
    "print(\"Estimated Test Error:\", scores.mean())"
   ]
  },
  {
   "cell_type": "markdown",
   "metadata": {},
   "source": [
    "### Extra Trees Classifier ### "
   ]
  },
  {
   "cell_type": "code",
   "execution_count": 22,
   "metadata": {
    "collapsed": false
   },
   "outputs": [],
   "source": [
    "cross_scores = []\n",
    "for x in range(0,55,5):\n",
    "    if x == 0:\n",
    "        pass\n",
    "    else:\n",
    "        clf = ExtraTreesClassifier(n_estimators = x,\n",
    "                                  max_depth = None,\n",
    "                                  min_samples_split = 2,\n",
    "                                   random_state = 0)\n",
    "        cross_scores.append([x,cross_val_score(clf, X, y, n_jobs=-1, cv =3).mean()])"
   ]
  },
  {
   "cell_type": "code",
   "execution_count": 23,
   "metadata": {
    "collapsed": false
   },
   "outputs": [],
   "source": [
    "df = pd.DataFrame(cross_scores)\n",
    "df.columns = [\"Number of Features\",\"Error\"]\n",
    "df.Error = 1 - df.Error"
   ]
  },
  {
   "cell_type": "code",
   "execution_count": 25,
   "metadata": {
    "collapsed": false
   },
   "outputs": [
    {
     "data": {
      "text/plain": [
       "<matplotlib.axes._subplots.AxesSubplot at 0x7f72f6e976d8>"
      ]
     },
     "execution_count": 25,
     "metadata": {},
     "output_type": "execute_result"
    },
    {
     "data": {
      "image/png": "[encoded data removed]",
      "text/plain": [
       "<matplotlib.figure.Figure at 0x7f72f6c56240>"
      ]
     },
     "metadata": {},
     "output_type": "display_data"
    }
   ],
   "source": [
    "df.plot(x=\"Number of Features\", y=\"Error\", title=\"3-Fold Cross-Validation Error\")"
   ]
  },
  {
   "cell_type": "markdown",
   "metadata": {},
   "source": [
    "Looks like 20 is a good number of estimators with regards to  error reduction. "
   ]
  },
  {
   "cell_type": "code",
   "execution_count": 27,
   "metadata": {
    "collapsed": true
   },
   "outputs": [],
   "source": [
    "clf = ExtraTreesClassifier(n_estimators=20,\n",
    "                           max_depth=None,\n",
    "                           min_samples_split=2, \n",
    "                           random_state = 0)\n",
    "scores = cross_val_score(clf, X, y, n_jobs=-1, cv = 3)"
   ]
  },
  {
   "cell_type": "code",
   "execution_count": 28,
   "metadata": {
    "collapsed": false
   },
   "outputs": [
    {
     "name": "stdout",
     "output_type": "stream",
     "text": [
      "Estimated test error: 0.955142926731\n"
     ]
    }
   ],
   "source": [
    "print(\"Estimated test error:\", scores.mean())"
   ]
  },
  {
   "cell_type": "markdown",
   "metadata": {},
   "source": [
    "### Submission to Kaggle ###"
   ]
  },
  {
   "cell_type": "code",
   "execution_count": 35,
   "metadata": {
    "collapsed": false
   },
   "outputs": [],
   "source": [
    "# Fit Final Model \n",
    "clf.fit(X,y)\n",
    "\n",
    "#Organize prediction into arrays\n",
    "Label = np.array(clf.predict(test_X))\n",
    "ImageId = np.arange(start = 1, stop = Label.shape[0]+1)\n",
    "\n",
    "# Save dataframe to csv \n",
    "df = pd.DataFrame({'ImageId': ImageId, 'Label': Label})\n",
    "df.to_csv('RFE_submission.csv', index_label = False, index = False)"
   ]
  },
  {
   "cell_type": "markdown",
   "metadata": {},
   "source": [
    "![title](RFE_score.png)"
   ]
  }
 ],
 "metadata": {
  "anaconda-cloud": {},
  "kernelspec": {
   "display_name": "Python [conda root]",
   "language": "python",
   "name": "conda-root-py"
  },
  "language_info": {
   "codemirror_mode": {
    "name": "ipython",
    "version": 3
   },
   "file_extension": ".py",
   "mimetype": "text/x-python",
   "name": "python",
   "nbconvert_exporter": "python",
   "pygments_lexer": "ipython3",
   "version": "3.5.2"
  }
 },
 "nbformat": 4,
 "nbformat_minor": 1
}
