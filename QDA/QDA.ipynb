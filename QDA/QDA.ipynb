{
 "cells": [
  {
   "cell_type": "markdown",
   "metadata": {},
   "source": [
    "# Quadratic Discriminant Analyisis # \n",
    "\n",
    "### QDA Description ### \n",
    "Supervised learning technique. \n",
    "\n",
    "#### Assumptions ####\n",
    "- Normally distributed data \n",
    "- Covariance matrices for every class **do not need** to be equal\n",
    "\n",
    "### Load Libraries ###"
   ]
  },
  {
   "cell_type": "code",
   "execution_count": 12,
   "metadata": {
    "collapsed": true
   },
   "outputs": [],
   "source": [
    "%matplotlib inline\n",
    "import pandas as pd \n",
    "import numpy as np\n",
    "import matplotlib.pyplot as plt\n",
    "from sklearn.discriminant_analysis import QuadraticDiscriminantAnalysis as QDA \n",
    "import sklearn.decomposition\n",
    "from sklearn.model_selection import KFold"
   ]
  },
  {
   "cell_type": "markdown",
   "metadata": {},
   "source": [
    "### Import Data ### "
   ]
  },
  {
   "cell_type": "code",
   "execution_count": 6,
   "metadata": {
    "collapsed": true
   },
   "outputs": [],
   "source": [
    "# Read the training csv\n",
    "train_pd = pd.read_csv('/home/caleb/Documents/Classes/machine-learning/assignments/assignment06/train.csv')\n",
    "\n",
    "# Read the test csv\n",
    "test_pd = pd.read_csv('/home/caleb/Documents/Classes/machine-learning/assignments/assignment06/test.csv')\n",
    "\n",
    "# Values returns an array of pixel data from training set\n",
    "X = train_pd.values[:,1:]\n",
    "\n",
    "# Test values returns an array of pixel data from test set\n",
    "test_X = test_pd.values\n",
    "\n",
    "# response returns an array of labels\n",
    "y = train_pd.values[:,0].ravel()"
   ]
  },
  {
   "cell_type": "markdown",
   "metadata": {},
   "source": [
    "### Model Fitting ### "
   ]
  },
  {
   "cell_type": "code",
   "execution_count": 19,
   "metadata": {
    "collapsed": false
   },
   "outputs": [
    {
     "name": "stderr",
     "output_type": "stream",
     "text": [
      "/home/caleb/anaconda3/lib/python3.5/site-packages/sklearn/discriminant_analysis.py:695: UserWarning: Variables are collinear\n",
      "  warnings.warn(\"Variables are collinear\")\n"
     ]
    }
   ],
   "source": [
    "# LDA \n",
    "sklearn_qda = QDA(priors = 10)\n",
    "# Taking in as second argument the Target as labels\n",
    "training_QDA = sklearn_qda.fit(X, y)"
   ]
  },
  {
   "cell_type": "code",
   "execution_count": 20,
   "metadata": {
    "collapsed": false
   },
   "outputs": [
    {
     "name": "stdout",
     "output_type": "stream",
     "text": [
      "Training Error: 0.576595238095\n"
     ]
    }
   ],
   "source": [
    "print(\"Training Error:\", training_QDA.score(X,y))"
   ]
  },
  {
   "cell_type": "markdown",
   "metadata": {},
   "source": [
    "### Cross-Validation ### "
   ]
  },
  {
   "cell_type": "code",
   "execution_count": 14,
   "metadata": {
    "collapsed": false
   },
   "outputs": [
    {
     "name": "stderr",
     "output_type": "stream",
     "text": [
      "/home/caleb/anaconda3/lib/python3.5/site-packages/sklearn/discriminant_analysis.py:695: UserWarning: Variables are collinear\n",
      "  warnings.warn(\"Variables are collinear\")\n"
     ]
    }
   ],
   "source": [
    "# Split the data into folds\n",
    "n = len(X)\n",
    "kf = KFold(n_splits = 20)\n",
    "cross_error = []\n",
    "for train_idx, test_idx in kf.split(X):\n",
    "    X_train, X_test = X[train_idx], X[test_idx]\n",
    "    y_train, y_test = y[train_idx], y[test_idx]\n",
    "    skQDA = QDA(priors = 10)\n",
    "    clf = skQDA.fit(X_train, y_train)\n",
    "    score = clf.score(X_test, y_test)\n",
    "    cross_error.append(score)"
   ]
  },
  {
   "cell_type": "code",
   "execution_count": 15,
   "metadata": {
    "collapsed": false
   },
   "outputs": [
    {
     "name": "stdout",
     "output_type": "stream",
     "text": [
      "mean of 20 cross validation errors: 0.553261904762\n",
      "variance of 20 cross validation errors:  0.000108509637188\n"
     ]
    }
   ],
   "source": [
    "print(\"mean of 20 cross validation errors:\", np.array(cross_error).mean())\n",
    "print(\"variance of 20 cross validation errors: \", np.array(cross_error).var())"
   ]
  },
  {
   "cell_type": "markdown",
   "metadata": {},
   "source": [
    "### Submission to Kaggle ### "
   ]
  },
  {
   "cell_type": "code",
   "execution_count": 23,
   "metadata": {
    "collapsed": false
   },
   "outputs": [],
   "source": [
    "# Organize prediction into arrays\n",
    "Label = np.array(skQDA.predict(test_X))\n",
    "ImageId = np.arange(start = 1, stop = Label.shape[0]+1)\n",
    "\n",
    "# Save dataframe to csv \n",
    "df = pd.DataFrame({'ImageId': ImageId, 'Label': Label})\n",
    "df.to_csv('QDA_submission.csv', index_label = False, index = False)"
   ]
  },
  {
   "cell_type": "markdown",
   "metadata": {},
   "source": [
    "![title](QDA_score.png)"
   ]
  }
 ],
 "metadata": {
  "anaconda-cloud": {},
  "kernelspec": {
   "display_name": "Python [conda root]",
   "language": "python",
   "name": "conda-root-py"
  },
  "language_info": {
   "codemirror_mode": {
    "name": "ipython",
    "version": 3
   },
   "file_extension": ".py",
   "mimetype": "text/x-python",
   "name": "python",
   "nbconvert_exporter": "python",
   "pygments_lexer": "ipython3",
   "version": "3.5.2"
  }
 },
 "nbformat": 4,
 "nbformat_minor": 1
}
